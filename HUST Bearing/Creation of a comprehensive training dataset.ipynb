{
 "cells": [
  {
   "cell_type": "markdown",
   "metadata": {},
   "source": [
    "VMD分解:使所有信号的分量特征保持同样的维度，K= 4"
   ]
  },
  {
   "cell_type": "markdown",
   "metadata": {},
   "source": [
    "快速傅里叶变换 FFT"
   ]
  },
  {
   "cell_type": "code",
   "execution_count": 1,
   "metadata": {},
   "outputs": [
    {
     "data": {
      "text/plain": [
       "['test_features_vmd_fft']"
      ]
     },
     "execution_count": 1,
     "metadata": {},
     "output_type": "execute_result"
    }
   ],
   "source": [
    "# VMD + FFT 数据集的制作\n",
    "import pandas as pd\n",
    "import numpy as np\n",
    "from vmdpy import VMD\n",
    "import torch\n",
    "from joblib import dump, load\n",
    "import os\n",
    "os.environ['KMP_DUPLICATE_LIB_OK']='True'\n",
    "\n",
    "# 加载数据\n",
    "train_xdata = load('train_xdata')\n",
    "val_xdata = load('val_xdata')\n",
    "test_xdata = load('test_xdata')\n",
    "train_ylabel = load('train_ylabel')\n",
    "val_ylabel = load('val_ylabel')\n",
    "test_ylabel = load('test_ylabel')\n",
    "\n",
    "# -----VMD 参数--------\n",
    "alpha = 2000\n",
    "tau = 0 \n",
    "DC = 0 \n",
    "init = 1 \n",
    "tol = 1e-7\n",
    "# -----参数--------\n",
    "\n",
    "# VMD + FFT 数据集的制作\n",
    "def make_feature_datasets(data, imfs_k):\n",
    "    '''\n",
    "        参数 data: 待分解数据\n",
    "            imfs_k: VMD分解模态（IMF）个数\n",
    "\n",
    "        返回 features:  提取的特征数据集\n",
    "            y_label    : 数据集对应标签\n",
    "    '''\n",
    "    samples = data.shape[0]\n",
    "    signl_len = data.shape[1]\n",
    "    # 把数据转为numpy\n",
    "    data = np.array(data)\n",
    "\n",
    "    # 特征数量 分解数量  + 快速傅里叶变换结果\n",
    "    features_num = imfs_k + 1\n",
    "\n",
    "    # 构造三维矩阵\n",
    "    features = np.zeros((samples, features_num, signl_len))  \n",
    "\n",
    "    # 对数据进行VMD分解 和 FFT 变换\n",
    "    for i in range(samples):\n",
    "\n",
    "        # Apply VMD\n",
    "        u, u_hat, omega= VMD(data[i], alpha, tau, imfs_k, DC, init, tol)\n",
    "\n",
    "        # 快速傅里叶变换\n",
    "        fft_result1 = np.fft.fft(data[i])\n",
    "        magnitude_spectrum = np.abs(fft_result1)\n",
    "        magnitude_spectrum = magnitude_spectrum.reshape(1, -1)\n",
    "\n",
    "        # 垂直叠加\n",
    "        combined_matrix = np.vstack((u, magnitude_spectrum))\n",
    "        features[i] = combined_matrix\n",
    "\n",
    "    # 把numpy转为  tensor\n",
    "    features = torch.tensor(features).float()\n",
    "    return features\n",
    "\n",
    "# VMD分解预处理  统一保存4个分量\n",
    "#模态数量  分解模态（IMF）个数\n",
    "K = 4\n",
    "\n",
    "train_features = make_feature_datasets(train_xdata, K)\n",
    "val_features = make_feature_datasets(val_xdata, K)\n",
    "test_features = make_feature_datasets(test_xdata, K)\n",
    "\n",
    "# 保存数据\n",
    "dump(train_features, 'train_features_vmd_fft')\n",
    "dump(val_features, 'val_features_vmd_fft')\n",
    "dump(test_features, 'test_features_vmd_fft')"
   ]
  },
  {
   "cell_type": "code",
   "execution_count": 2,
   "metadata": {},
   "outputs": [
    {
     "name": "stdout",
     "output_type": "stream",
     "text": [
      "数据 形状：\n",
      "torch.Size([7161, 5, 1024]) torch.Size([7161])\n",
      "torch.Size([2046, 5, 1024]) torch.Size([2046])\n",
      "torch.Size([1023, 5, 1024]) torch.Size([1023])\n"
     ]
    }
   ],
   "source": [
    "print('数据 形状：')\n",
    "print(train_features.shape, train_ylabel.shape)\n",
    "print(val_features.shape, val_ylabel.shape)\n",
    "print(test_features.shape, test_ylabel.shape)"
   ]
  }
 ],
 "metadata": {
  "kernelspec": {
   "display_name": "Python 3 (ipykernel)",
   "language": "python",
   "name": "python3"
  },
  "language_info": {
   "codemirror_mode": {
    "name": "ipython",
    "version": 3
   },
   "file_extension": ".py",
   "mimetype": "text/x-python",
   "name": "python",
   "nbconvert_exporter": "python",
   "pygments_lexer": "ipython3",
   "version": "3.12.8"
  }
 },
 "nbformat": 4,
 "nbformat_minor": 4
}
